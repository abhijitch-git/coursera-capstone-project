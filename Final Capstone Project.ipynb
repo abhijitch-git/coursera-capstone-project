{
    "cells": [
        {
            "metadata": {
                "collapsed": true
            },
            "cell_type": "markdown",
            "source": "## Final Capstone Project : Exploring TBD neighborhood for opening an Indian Restaurant"
        },
        {
            "metadata": {},
            "cell_type": "code",
            "source": "import pandas as pd\nimport numpy as np\nimport geopy\nfrom geopy.geocoders import Nominatim\nimport matplotlib.cm as cm\nimport matplotlib.colors as colors\n%matplotlib inline \nfrom sklearn.cluster import KMeans ",
            "execution_count": 1,
            "outputs": []
        },
        {
            "metadata": {},
            "cell_type": "code",
            "source": "pip install folium",
            "execution_count": 3,
            "outputs": [
                {
                    "output_type": "stream",
                    "text": "Collecting folium\n  Downloading folium-0.12.1-py2.py3-none-any.whl (94 kB)\n\u001b[K     |\u2588\u2588\u2588\u2588\u2588\u2588\u2588\u2588\u2588\u2588\u2588\u2588\u2588\u2588\u2588\u2588\u2588\u2588\u2588\u2588\u2588\u2588\u2588\u2588\u2588\u2588\u2588\u2588\u2588\u2588\u2588\u2588| 94 kB 6.4 MB/s  eta 0:00:01\n\u001b[?25hCollecting branca>=0.3.0\n  Downloading branca-0.4.2-py3-none-any.whl (24 kB)\nRequirement already satisfied: numpy in /opt/conda/envs/Python-3.7-main/lib/python3.7/site-packages (from folium) (1.18.5)\nRequirement already satisfied: requests in /opt/conda/envs/Python-3.7-main/lib/python3.7/site-packages (from folium) (2.24.0)\nRequirement already satisfied: jinja2>=2.9 in /opt/conda/envs/Python-3.7-main/lib/python3.7/site-packages (from folium) (2.11.2)\nRequirement already satisfied: urllib3!=1.25.0,!=1.25.1,<1.26,>=1.21.1 in /opt/conda/envs/Python-3.7-main/lib/python3.7/site-packages (from requests->folium) (1.25.9)\nRequirement already satisfied: certifi>=2017.4.17 in /opt/conda/envs/Python-3.7-main/lib/python3.7/site-packages (from requests->folium) (2020.12.5)\nRequirement already satisfied: idna<3,>=2.5 in /opt/conda/envs/Python-3.7-main/lib/python3.7/site-packages (from requests->folium) (2.9)\nRequirement already satisfied: chardet<4,>=3.0.2 in /opt/conda/envs/Python-3.7-main/lib/python3.7/site-packages (from requests->folium) (3.0.4)\nRequirement already satisfied: MarkupSafe>=0.23 in /opt/conda/envs/Python-3.7-main/lib/python3.7/site-packages (from jinja2>=2.9->folium) (1.1.1)\nInstalling collected packages: branca, folium\nSuccessfully installed branca-0.4.2 folium-0.12.1\nNote: you may need to restart the kernel to use updated packages.\n",
                    "name": "stdout"
                }
            ]
        },
        {
            "metadata": {},
            "cell_type": "code",
            "source": "import folium",
            "execution_count": 4,
            "outputs": []
        },
        {
            "metadata": {},
            "cell_type": "markdown",
            "source": "## Data Preperation"
        },
        {
            "metadata": {},
            "cell_type": "markdown",
            "source": "### 1. List of postal code and Neighborhood in Toronto Canada \nDownloading Toronto Neighbourhood data from wiki"
        },
        {
            "metadata": {
                "scrolled": true
            },
            "cell_type": "code",
            "source": "df = pd.read_html('https://en.wikipedia.org/wiki/List_of_postal_codes_of_Canada:_M')[0]\ndf",
            "execution_count": 5,
            "outputs": [
                {
                    "output_type": "execute_result",
                    "execution_count": 5,
                    "data": {
                        "text/plain": "                                                    0  \\\n0                                     M1ANot assigned   \n1                     M1BScarborough(Malvern / Rouge)   \n2   M1CScarborough(Rouge Hill / Port Union / Highl...   \n3   M1EScarborough(Guildwood / Morningside / West ...   \n4                              M1GScarborough(Woburn)   \n5                           M1HScarborough(Cedarbrae)   \n6                 M1JScarborough(Scarborough Village)   \n7   M1KScarborough(Kennedy Park / Ionview / East B...   \n8   M1LScarborough(Golden Mile / Clairlea / Oakridge)   \n9   M1MScarborough(Cliffside / Cliffcrest / Scarbo...   \n10       M1NScarborough(Birch Cliff / Cliffside West)   \n11  M1PScarborough(Dorset Park / Wexford Heights /...   \n12                 M1RScarborough(Wexford / Maryvale)   \n13                          M1SScarborough(Agincourt)   \n14  M1TScarborough(Clarks Corners / Tam O'Shanter ...   \n15  M1VScarborough(Milliken / Agincourt North / St...   \n16     M1WScarborough(Steeles West / L'Amoreaux West)   \n17                        M1XScarborough(Upper Rouge)   \n18                                    M1YNot assigned   \n19                                    M1ZNot assigned   \n\n                                                1  \\\n0                                 M2ANot assigned   \n1                                 M2BNot assigned   \n2                                 M2CNot assigned   \n3                                 M2ENot assigned   \n4                                 M2GNot assigned   \n5                M2HNorth York(Hillcrest Village)   \n6   M2JNorth York(Fairview / Henry Farm / Oriole)   \n7                  M2KNorth York(Bayview Village)   \n8        M2LNorth York(York Mills / Silver Hills)   \n9         M2MNorth York(Willowdale / Newtonbrook)   \n10                 M2NNorth York(Willowdale)South   \n11                 M2PNorth York(York Mills West)   \n12                  M2RNorth York(Willowdale)West   \n13                                M2SNot assigned   \n14                                M2TNot assigned   \n15                                M2VNot assigned   \n16                                M2WNot assigned   \n17                                M2XNot assigned   \n18                                M2YNot assigned   \n19                                M2ZNot assigned   \n\n                                                    2  \\\n0                            M3ANorth York(Parkwoods)   \n1                       M3BNorth York(Don Mills)North   \n2      M3CNorth York(Don Mills)South(Flemingdon Park)   \n3                                     M3ENot assigned   \n4                                     M3GNot assigned   \n5   M3HNorth York(Bathurst Manor / Wilson Heights ...   \n6     M3JNorth York(Northwood Park / York University)   \n7          M3KNorth York(Downsview)East (CFB Toronto)   \n8                        M3LNorth York(Downsview)West   \n9                     M3MNorth York(Downsview)Central   \n10                  M3NNorth York(Downsview)Northwest   \n11                                    M3PNot assigned   \n12                                    M3RNot assigned   \n13                                    M3SNot assigned   \n14                                    M3TNot assigned   \n15                                    M3VNot assigned   \n16                                    M3WNot assigned   \n17                                    M3XNot assigned   \n18                                    M3YNot assigned   \n19                                    M3ZNot assigned   \n\n                                                    3  \\\n0                     M4ANorth York(Victoria Village)   \n1      M4BEast York(Parkview Hill / Woodbine Gardens)   \n2                      M4CEast York(Woodbine Heights)   \n3                        M4EEast Toronto(The Beaches)   \n4                               M4GEast York(Leaside)   \n5                      M4HEast York(Thorncliffe Park)   \n6         M4JEast YorkEast Toronto(The Danforth East)   \n7      M4KEast Toronto(The Danforth West / Riverdale)   \n8    M4LEast Toronto(India Bazaar / The Beaches West)   \n9                    M4MEast Toronto(Studio District)   \n10                  M4NCentral Toronto(Lawrence Park)   \n11               M4PCentral Toronto(Davisville North)   \n12             M4RCentral Toronto(North Toronto West)   \n13                     M4SCentral Toronto(Davisville)   \n14   M4TCentral Toronto(Moore Park / Summerhill East)   \n15  M4VCentral Toronto(Summerhill West / Rathnelly...   \n16                      M4WDowntown Toronto(Rosedale)   \n17  M4XDowntown Toronto(St. James Town / Cabbagetown)   \n18          M4YDowntown Toronto(Church and Wellesley)   \n19                                    M4ZNot assigned   \n\n                                                    4  \\\n0     M5ADowntown Toronto(Regent Park / Harbourfront)   \n1       M5BDowntown Toronto(Garden District, Ryerson)   \n2                 M5CDowntown Toronto(St. James Town)   \n3                    M5EDowntown Toronto(Berczy Park)   \n4             M5GDowntown Toronto(Central Bay Street)   \n5     M5HDowntown Toronto(Richmond / Adelaide / King)   \n6   M5JDowntown Toronto(Harbourfront East / Union ...   \n7   M5KDowntown Toronto(Toronto Dominion Centre / ...   \n8   M5LDowntown Toronto(Commerce Court / Victoria ...   \n9   M5MNorth York(Bedford Park / Lawrence Manor East)   \n10                       M5NCentral Toronto(Roselawn)   \n11       M5PCentral Toronto(Forest Hill North & West)   \n12  M5RCentral Toronto(The Annex / North Midtown /...   \n13  M5SDowntown Toronto(University of Toronto / Ha...   \n14  M5TDowntown Toronto(Kensington Market / Chinat...   \n15  M5VDowntown Toronto(CN Tower / King and Spadin...   \n16  M5WDowntown TorontoStn A PO Boxes25 The Esplan...   \n17  M5XDowntown Toronto(First Canadian Place / Und...   \n18                                    M5YNot assigned   \n19                                    M5ZNot assigned   \n\n                                                    5  \\\n0    M6ANorth York(Lawrence Manor / Lawrence Heights)   \n1                            M6BNorth York(Glencairn)   \n2                         M6CYork(Humewood-Cedarvale)   \n3                        M6EYork(Caledonia-Fairbanks)   \n4                       M6GDowntown Toronto(Christie)   \n5      M6HWest Toronto(Dufferin / Dovercourt Village)   \n6          M6JWest Toronto(Little Portugal / Trinity)   \n7   M6KWest Toronto(Brockton / Parkdale Village / ...   \n8   M6LNorth York(North Park / Maple Leaf Park / U...   \n9   M6MYork(Del Ray / Mount Dennis / Keelsdale and...   \n10            M6NYork(Runnymede / The Junction North)   \n11    M6PWest Toronto(High Park / The Junction South)   \n12           M6RWest Toronto(Parkdale / Roncesvalles)   \n13               M6SWest Toronto(Runnymede / Swansea)   \n14                                    M6TNot assigned   \n15                                    M6VNot assigned   \n16                                    M6WNot assigned   \n17                                    M6XNot assigned   \n18                                    M6YNot assigned   \n19                                    M6ZNot assigned   \n\n                                                    6  \\\n0      M7AQueen's Park(Ontario Provincial Government)   \n1                                     M7BNot assigned   \n2                                     M7CNot assigned   \n3                                     M7ENot assigned   \n4                                     M7GNot assigned   \n5                                     M7HNot assigned   \n6                                     M7JNot assigned   \n7                                     M7KNot assigned   \n8                                     M7LNot assigned   \n9                                     M7MNot assigned   \n10                                    M7NNot assigned   \n11                                    M7PNot assigned   \n12  M7RMississaugaCanada Post Gateway Processing C...   \n13                                    M7SNot assigned   \n14                                    M7TNot assigned   \n15                                    M7VNot assigned   \n16                                    M7WNot assigned   \n17                                    M7XNot assigned   \n18  M7YEast TorontoBusiness reply mail Processing ...   \n19                                    M7ZNot assigned   \n\n                                                    7  \\\n0                                     M8ANot assigned   \n1                                     M8BNot assigned   \n2                                     M8CNot assigned   \n3                                     M8ENot assigned   \n4                                     M8GNot assigned   \n5                                     M8HNot assigned   \n6                                     M8JNot assigned   \n7                                     M8KNot assigned   \n8                                     M8LNot assigned   \n9                                     M8MNot assigned   \n10                                    M8NNot assigned   \n11                                    M8PNot assigned   \n12                                    M8RNot assigned   \n13                                    M8SNot assigned   \n14                                    M8TNot assigned   \n15  M8VEtobicoke(New Toronto / Mimico South / Humb...   \n16              M8WEtobicoke(Alderwood / Long Branch)   \n17  M8XEtobicoke(The Kingsway / Montgomery Road / ...   \n18  M8YEtobicoke(Old Mill South / King's Mill Park...   \n19  M8ZEtobicoke(Mimico NW / The Queensway West / ...   \n\n                                                    8  \n0                      M9AEtobicoke(Islington Avenue)  \n1   M9BEtobicoke(West Deane Park / Princess Garden...  \n2   M9CEtobicoke(Eringate / Bloordale Gardens / Ol...  \n3                                     M9ENot assigned  \n4                                     M9GNot assigned  \n5                                     M9HNot assigned  \n6                                     M9JNot assigned  \n7                                     M9KNot assigned  \n8                        M9LNorth York(Humber Summit)  \n9                    M9MNorth York(Humberlea / Emery)  \n10                                    M9NYork(Weston)  \n11                            M9PEtobicoke(Westmount)  \n12  M9REtobicoke(Kingsview Village / St. Phillips ...  \n13                                    M9SNot assigned  \n14                                    M9TNot assigned  \n15  M9VEtobicoke(South Steeles / Silverstone / Hum...  \n16  M9WEtobicokeNorthwest(Clairville / Humberwood ...  \n17                                    M9XNot assigned  \n18                                    M9YNot assigned  \n19                                    M9ZNot assigned  ",
                        "text/html": "<div>\n<style scoped>\n    .dataframe tbody tr th:only-of-type {\n        vertical-align: middle;\n    }\n\n    .dataframe tbody tr th {\n        vertical-align: top;\n    }\n\n    .dataframe thead th {\n        text-align: right;\n    }\n</style>\n<table border=\"1\" class=\"dataframe\">\n  <thead>\n    <tr style=\"text-align: right;\">\n      <th></th>\n      <th>0</th>\n      <th>1</th>\n      <th>2</th>\n      <th>3</th>\n      <th>4</th>\n      <th>5</th>\n      <th>6</th>\n      <th>7</th>\n      <th>8</th>\n    </tr>\n  </thead>\n  <tbody>\n    <tr>\n      <th>0</th>\n      <td>M1ANot assigned</td>\n      <td>M2ANot assigned</td>\n      <td>M3ANorth York(Parkwoods)</td>\n      <td>M4ANorth York(Victoria Village)</td>\n      <td>M5ADowntown Toronto(Regent Park / Harbourfront)</td>\n      <td>M6ANorth York(Lawrence Manor / Lawrence Heights)</td>\n      <td>M7AQueen's Park(Ontario Provincial Government)</td>\n      <td>M8ANot assigned</td>\n      <td>M9AEtobicoke(Islington Avenue)</td>\n    </tr>\n    <tr>\n      <th>1</th>\n      <td>M1BScarborough(Malvern / Rouge)</td>\n      <td>M2BNot assigned</td>\n      <td>M3BNorth York(Don Mills)North</td>\n      <td>M4BEast York(Parkview Hill / Woodbine Gardens)</td>\n      <td>M5BDowntown Toronto(Garden District, Ryerson)</td>\n      <td>M6BNorth York(Glencairn)</td>\n      <td>M7BNot assigned</td>\n      <td>M8BNot assigned</td>\n      <td>M9BEtobicoke(West Deane Park / Princess Garden...</td>\n    </tr>\n    <tr>\n      <th>2</th>\n      <td>M1CScarborough(Rouge Hill / Port Union / Highl...</td>\n      <td>M2CNot assigned</td>\n      <td>M3CNorth York(Don Mills)South(Flemingdon Park)</td>\n      <td>M4CEast York(Woodbine Heights)</td>\n      <td>M5CDowntown Toronto(St. James Town)</td>\n      <td>M6CYork(Humewood-Cedarvale)</td>\n      <td>M7CNot assigned</td>\n      <td>M8CNot assigned</td>\n      <td>M9CEtobicoke(Eringate / Bloordale Gardens / Ol...</td>\n    </tr>\n    <tr>\n      <th>3</th>\n      <td>M1EScarborough(Guildwood / Morningside / West ...</td>\n      <td>M2ENot assigned</td>\n      <td>M3ENot assigned</td>\n      <td>M4EEast Toronto(The Beaches)</td>\n      <td>M5EDowntown Toronto(Berczy Park)</td>\n      <td>M6EYork(Caledonia-Fairbanks)</td>\n      <td>M7ENot assigned</td>\n      <td>M8ENot assigned</td>\n      <td>M9ENot assigned</td>\n    </tr>\n    <tr>\n      <th>4</th>\n      <td>M1GScarborough(Woburn)</td>\n      <td>M2GNot assigned</td>\n      <td>M3GNot assigned</td>\n      <td>M4GEast York(Leaside)</td>\n      <td>M5GDowntown Toronto(Central Bay Street)</td>\n      <td>M6GDowntown Toronto(Christie)</td>\n      <td>M7GNot assigned</td>\n      <td>M8GNot assigned</td>\n      <td>M9GNot assigned</td>\n    </tr>\n    <tr>\n      <th>5</th>\n      <td>M1HScarborough(Cedarbrae)</td>\n      <td>M2HNorth York(Hillcrest Village)</td>\n      <td>M3HNorth York(Bathurst Manor / Wilson Heights ...</td>\n      <td>M4HEast York(Thorncliffe Park)</td>\n      <td>M5HDowntown Toronto(Richmond / Adelaide / King)</td>\n      <td>M6HWest Toronto(Dufferin / Dovercourt Village)</td>\n      <td>M7HNot assigned</td>\n      <td>M8HNot assigned</td>\n      <td>M9HNot assigned</td>\n    </tr>\n    <tr>\n      <th>6</th>\n      <td>M1JScarborough(Scarborough Village)</td>\n      <td>M2JNorth York(Fairview / Henry Farm / Oriole)</td>\n      <td>M3JNorth York(Northwood Park / York University)</td>\n      <td>M4JEast YorkEast Toronto(The Danforth East)</td>\n      <td>M5JDowntown Toronto(Harbourfront East / Union ...</td>\n      <td>M6JWest Toronto(Little Portugal / Trinity)</td>\n      <td>M7JNot assigned</td>\n      <td>M8JNot assigned</td>\n      <td>M9JNot assigned</td>\n    </tr>\n    <tr>\n      <th>7</th>\n      <td>M1KScarborough(Kennedy Park / Ionview / East B...</td>\n      <td>M2KNorth York(Bayview Village)</td>\n      <td>M3KNorth York(Downsview)East (CFB Toronto)</td>\n      <td>M4KEast Toronto(The Danforth West / Riverdale)</td>\n      <td>M5KDowntown Toronto(Toronto Dominion Centre / ...</td>\n      <td>M6KWest Toronto(Brockton / Parkdale Village / ...</td>\n      <td>M7KNot assigned</td>\n      <td>M8KNot assigned</td>\n      <td>M9KNot assigned</td>\n    </tr>\n    <tr>\n      <th>8</th>\n      <td>M1LScarborough(Golden Mile / Clairlea / Oakridge)</td>\n      <td>M2LNorth York(York Mills / Silver Hills)</td>\n      <td>M3LNorth York(Downsview)West</td>\n      <td>M4LEast Toronto(India Bazaar / The Beaches West)</td>\n      <td>M5LDowntown Toronto(Commerce Court / Victoria ...</td>\n      <td>M6LNorth York(North Park / Maple Leaf Park / U...</td>\n      <td>M7LNot assigned</td>\n      <td>M8LNot assigned</td>\n      <td>M9LNorth York(Humber Summit)</td>\n    </tr>\n    <tr>\n      <th>9</th>\n      <td>M1MScarborough(Cliffside / Cliffcrest / Scarbo...</td>\n      <td>M2MNorth York(Willowdale / Newtonbrook)</td>\n      <td>M3MNorth York(Downsview)Central</td>\n      <td>M4MEast Toronto(Studio District)</td>\n      <td>M5MNorth York(Bedford Park / Lawrence Manor East)</td>\n      <td>M6MYork(Del Ray / Mount Dennis / Keelsdale and...</td>\n      <td>M7MNot assigned</td>\n      <td>M8MNot assigned</td>\n      <td>M9MNorth York(Humberlea / Emery)</td>\n    </tr>\n    <tr>\n      <th>10</th>\n      <td>M1NScarborough(Birch Cliff / Cliffside West)</td>\n      <td>M2NNorth York(Willowdale)South</td>\n      <td>M3NNorth York(Downsview)Northwest</td>\n      <td>M4NCentral Toronto(Lawrence Park)</td>\n      <td>M5NCentral Toronto(Roselawn)</td>\n      <td>M6NYork(Runnymede / The Junction North)</td>\n      <td>M7NNot assigned</td>\n      <td>M8NNot assigned</td>\n      <td>M9NYork(Weston)</td>\n    </tr>\n    <tr>\n      <th>11</th>\n      <td>M1PScarborough(Dorset Park / Wexford Heights /...</td>\n      <td>M2PNorth York(York Mills West)</td>\n      <td>M3PNot assigned</td>\n      <td>M4PCentral Toronto(Davisville North)</td>\n      <td>M5PCentral Toronto(Forest Hill North &amp; West)</td>\n      <td>M6PWest Toronto(High Park / The Junction South)</td>\n      <td>M7PNot assigned</td>\n      <td>M8PNot assigned</td>\n      <td>M9PEtobicoke(Westmount)</td>\n    </tr>\n    <tr>\n      <th>12</th>\n      <td>M1RScarborough(Wexford / Maryvale)</td>\n      <td>M2RNorth York(Willowdale)West</td>\n      <td>M3RNot assigned</td>\n      <td>M4RCentral Toronto(North Toronto West)</td>\n      <td>M5RCentral Toronto(The Annex / North Midtown /...</td>\n      <td>M6RWest Toronto(Parkdale / Roncesvalles)</td>\n      <td>M7RMississaugaCanada Post Gateway Processing C...</td>\n      <td>M8RNot assigned</td>\n      <td>M9REtobicoke(Kingsview Village / St. Phillips ...</td>\n    </tr>\n    <tr>\n      <th>13</th>\n      <td>M1SScarborough(Agincourt)</td>\n      <td>M2SNot assigned</td>\n      <td>M3SNot assigned</td>\n      <td>M4SCentral Toronto(Davisville)</td>\n      <td>M5SDowntown Toronto(University of Toronto / Ha...</td>\n      <td>M6SWest Toronto(Runnymede / Swansea)</td>\n      <td>M7SNot assigned</td>\n      <td>M8SNot assigned</td>\n      <td>M9SNot assigned</td>\n    </tr>\n    <tr>\n      <th>14</th>\n      <td>M1TScarborough(Clarks Corners / Tam O'Shanter ...</td>\n      <td>M2TNot assigned</td>\n      <td>M3TNot assigned</td>\n      <td>M4TCentral Toronto(Moore Park / Summerhill East)</td>\n      <td>M5TDowntown Toronto(Kensington Market / Chinat...</td>\n      <td>M6TNot assigned</td>\n      <td>M7TNot assigned</td>\n      <td>M8TNot assigned</td>\n      <td>M9TNot assigned</td>\n    </tr>\n    <tr>\n      <th>15</th>\n      <td>M1VScarborough(Milliken / Agincourt North / St...</td>\n      <td>M2VNot assigned</td>\n      <td>M3VNot assigned</td>\n      <td>M4VCentral Toronto(Summerhill West / Rathnelly...</td>\n      <td>M5VDowntown Toronto(CN Tower / King and Spadin...</td>\n      <td>M6VNot assigned</td>\n      <td>M7VNot assigned</td>\n      <td>M8VEtobicoke(New Toronto / Mimico South / Humb...</td>\n      <td>M9VEtobicoke(South Steeles / Silverstone / Hum...</td>\n    </tr>\n    <tr>\n      <th>16</th>\n      <td>M1WScarborough(Steeles West / L'Amoreaux West)</td>\n      <td>M2WNot assigned</td>\n      <td>M3WNot assigned</td>\n      <td>M4WDowntown Toronto(Rosedale)</td>\n      <td>M5WDowntown TorontoStn A PO Boxes25 The Esplan...</td>\n      <td>M6WNot assigned</td>\n      <td>M7WNot assigned</td>\n      <td>M8WEtobicoke(Alderwood / Long Branch)</td>\n      <td>M9WEtobicokeNorthwest(Clairville / Humberwood ...</td>\n    </tr>\n    <tr>\n      <th>17</th>\n      <td>M1XScarborough(Upper Rouge)</td>\n      <td>M2XNot assigned</td>\n      <td>M3XNot assigned</td>\n      <td>M4XDowntown Toronto(St. James Town / Cabbagetown)</td>\n      <td>M5XDowntown Toronto(First Canadian Place / Und...</td>\n      <td>M6XNot assigned</td>\n      <td>M7XNot assigned</td>\n      <td>M8XEtobicoke(The Kingsway / Montgomery Road / ...</td>\n      <td>M9XNot assigned</td>\n    </tr>\n    <tr>\n      <th>18</th>\n      <td>M1YNot assigned</td>\n      <td>M2YNot assigned</td>\n      <td>M3YNot assigned</td>\n      <td>M4YDowntown Toronto(Church and Wellesley)</td>\n      <td>M5YNot assigned</td>\n      <td>M6YNot assigned</td>\n      <td>M7YEast TorontoBusiness reply mail Processing ...</td>\n      <td>M8YEtobicoke(Old Mill South / King's Mill Park...</td>\n      <td>M9YNot assigned</td>\n    </tr>\n    <tr>\n      <th>19</th>\n      <td>M1ZNot assigned</td>\n      <td>M2ZNot assigned</td>\n      <td>M3ZNot assigned</td>\n      <td>M4ZNot assigned</td>\n      <td>M5ZNot assigned</td>\n      <td>M6ZNot assigned</td>\n      <td>M7ZNot assigned</td>\n      <td>M8ZEtobicoke(Mimico NW / The Queensway West / ...</td>\n      <td>M9ZNot assigned</td>\n    </tr>\n  </tbody>\n</table>\n</div>"
                    },
                    "metadata": {}
                }
            ]
        },
        {
            "metadata": {},
            "cell_type": "markdown",
            "source": "Creating an empty dataframe"
        },
        {
            "metadata": {},
            "cell_type": "code",
            "source": "df_toronto=pd.DataFrame(columns=['Postal Code','Borough','Neighborhood'])\ndf_toronto",
            "execution_count": 10,
            "outputs": [
                {
                    "output_type": "execute_result",
                    "execution_count": 10,
                    "data": {
                        "text/plain": "Empty DataFrame\nColumns: [Postal Code, Borough, Neighborhood]\nIndex: []",
                        "text/html": "<div>\n<style scoped>\n    .dataframe tbody tr th:only-of-type {\n        vertical-align: middle;\n    }\n\n    .dataframe tbody tr th {\n        vertical-align: top;\n    }\n\n    .dataframe thead th {\n        text-align: right;\n    }\n</style>\n<table border=\"1\" class=\"dataframe\">\n  <thead>\n    <tr style=\"text-align: right;\">\n      <th></th>\n      <th>Postal Code</th>\n      <th>Borough</th>\n      <th>Neighborhood</th>\n    </tr>\n  </thead>\n  <tbody>\n  </tbody>\n</table>\n</div>"
                    },
                    "metadata": {}
                }
            ]
        },
        {
            "metadata": {},
            "cell_type": "markdown",
            "source": "Parsing unstructured data retrieved from wiki and convert into dataframe"
        },
        {
            "metadata": {},
            "cell_type": "code",
            "source": "for col_name, data in df.items():\n    #print(\"data is:\",data)\n    for i in range(20):\n        txt=data[i]\n        c1=txt[0:3]\n        sep='('\n        pos=txt.find(sep)\n        if pos>0:\n            c2=txt[3:pos]\n            c3=txt[pos+1:len(txt)-1].replace(\" / \",\",\")\n        else:\n            c2=txt[3:]\n            c3=\"Not assigned\"\n        df_toronto.loc[len(df_toronto.index)] = [c1,c2,c3] \ndf_toronto.head()",
            "execution_count": 11,
            "outputs": [
                {
                    "output_type": "execute_result",
                    "execution_count": 11,
                    "data": {
                        "text/plain": "  Postal Code       Borough                          Neighborhood\n0         M1A  Not assigned                          Not assigned\n1         M1B   Scarborough                         Malvern,Rouge\n2         M1C   Scarborough  Rouge Hill,Port Union,Highland Creek\n3         M1E   Scarborough       Guildwood,Morningside,West Hill\n4         M1G   Scarborough                                Woburn",
                        "text/html": "<div>\n<style scoped>\n    .dataframe tbody tr th:only-of-type {\n        vertical-align: middle;\n    }\n\n    .dataframe tbody tr th {\n        vertical-align: top;\n    }\n\n    .dataframe thead th {\n        text-align: right;\n    }\n</style>\n<table border=\"1\" class=\"dataframe\">\n  <thead>\n    <tr style=\"text-align: right;\">\n      <th></th>\n      <th>Postal Code</th>\n      <th>Borough</th>\n      <th>Neighborhood</th>\n    </tr>\n  </thead>\n  <tbody>\n    <tr>\n      <th>0</th>\n      <td>M1A</td>\n      <td>Not assigned</td>\n      <td>Not assigned</td>\n    </tr>\n    <tr>\n      <th>1</th>\n      <td>M1B</td>\n      <td>Scarborough</td>\n      <td>Malvern,Rouge</td>\n    </tr>\n    <tr>\n      <th>2</th>\n      <td>M1C</td>\n      <td>Scarborough</td>\n      <td>Rouge Hill,Port Union,Highland Creek</td>\n    </tr>\n    <tr>\n      <th>3</th>\n      <td>M1E</td>\n      <td>Scarborough</td>\n      <td>Guildwood,Morningside,West Hill</td>\n    </tr>\n    <tr>\n      <th>4</th>\n      <td>M1G</td>\n      <td>Scarborough</td>\n      <td>Woburn</td>\n    </tr>\n  </tbody>\n</table>\n</div>"
                    },
                    "metadata": {}
                }
            ]
        },
        {
            "metadata": {},
            "cell_type": "markdown",
            "source": "Filtering and Cleansing Dataframe"
        },
        {
            "metadata": {},
            "cell_type": "code",
            "source": "df_toronto.drop(df_toronto[df_toronto['Borough'] == 'Not assigned'].index, inplace = True) \ndf_toronto[\"Neighborhood\"].loc[df_toronto[\"Neighborhood\"]==\"Not assigned\"] = df_toronto[\"Borough\"]\ndf_toronto[df_toronto[\"Neighborhood\"]==\"Not assigned\"].count()\ndf.reset_index(inplace=True, drop=True)\nprint(\"Shape of Frame after filtering \",df_toronto.shape)",
            "execution_count": 12,
            "outputs": [
                {
                    "output_type": "stream",
                    "text": "Shape of Frame after filtering  (103, 3)\n",
                    "name": "stdout"
                }
            ]
        },
        {
            "metadata": {},
            "cell_type": "code",
            "source": "df_toronto.head()",
            "execution_count": 13,
            "outputs": [
                {
                    "output_type": "execute_result",
                    "execution_count": 13,
                    "data": {
                        "text/plain": "  Postal Code      Borough                          Neighborhood\n1         M1B  Scarborough                         Malvern,Rouge\n2         M1C  Scarborough  Rouge Hill,Port Union,Highland Creek\n3         M1E  Scarborough       Guildwood,Morningside,West Hill\n4         M1G  Scarborough                                Woburn\n5         M1H  Scarborough                             Cedarbrae",
                        "text/html": "<div>\n<style scoped>\n    .dataframe tbody tr th:only-of-type {\n        vertical-align: middle;\n    }\n\n    .dataframe tbody tr th {\n        vertical-align: top;\n    }\n\n    .dataframe thead th {\n        text-align: right;\n    }\n</style>\n<table border=\"1\" class=\"dataframe\">\n  <thead>\n    <tr style=\"text-align: right;\">\n      <th></th>\n      <th>Postal Code</th>\n      <th>Borough</th>\n      <th>Neighborhood</th>\n    </tr>\n  </thead>\n  <tbody>\n    <tr>\n      <th>1</th>\n      <td>M1B</td>\n      <td>Scarborough</td>\n      <td>Malvern,Rouge</td>\n    </tr>\n    <tr>\n      <th>2</th>\n      <td>M1C</td>\n      <td>Scarborough</td>\n      <td>Rouge Hill,Port Union,Highland Creek</td>\n    </tr>\n    <tr>\n      <th>3</th>\n      <td>M1E</td>\n      <td>Scarborough</td>\n      <td>Guildwood,Morningside,West Hill</td>\n    </tr>\n    <tr>\n      <th>4</th>\n      <td>M1G</td>\n      <td>Scarborough</td>\n      <td>Woburn</td>\n    </tr>\n    <tr>\n      <th>5</th>\n      <td>M1H</td>\n      <td>Scarborough</td>\n      <td>Cedarbrae</td>\n    </tr>\n  </tbody>\n</table>\n</div>"
                    },
                    "metadata": {}
                }
            ]
        },
        {
            "metadata": {},
            "cell_type": "markdown",
            "source": "### 2. Geospatial data\n\nCreating Dataframe of Toronto Postal Codes wise latitude and longitude"
        },
        {
            "metadata": {},
            "cell_type": "code",
            "source": "import requests\nimport io\ndatastr = requests.get(\"http://cocl.us/Geospatial_data\",allow_redirects=True).text\ndata_file = io.StringIO(datastr)\ngeo=pd.read_csv(data_file)\ngeo.head()",
            "execution_count": 14,
            "outputs": [
                {
                    "output_type": "execute_result",
                    "execution_count": 14,
                    "data": {
                        "text/plain": "  Postal Code   Latitude  Longitude\n0         M1B  43.806686 -79.194353\n1         M1C  43.784535 -79.160497\n2         M1E  43.763573 -79.188711\n3         M1G  43.770992 -79.216917\n4         M1H  43.773136 -79.239476",
                        "text/html": "<div>\n<style scoped>\n    .dataframe tbody tr th:only-of-type {\n        vertical-align: middle;\n    }\n\n    .dataframe tbody tr th {\n        vertical-align: top;\n    }\n\n    .dataframe thead th {\n        text-align: right;\n    }\n</style>\n<table border=\"1\" class=\"dataframe\">\n  <thead>\n    <tr style=\"text-align: right;\">\n      <th></th>\n      <th>Postal Code</th>\n      <th>Latitude</th>\n      <th>Longitude</th>\n    </tr>\n  </thead>\n  <tbody>\n    <tr>\n      <th>0</th>\n      <td>M1B</td>\n      <td>43.806686</td>\n      <td>-79.194353</td>\n    </tr>\n    <tr>\n      <th>1</th>\n      <td>M1C</td>\n      <td>43.784535</td>\n      <td>-79.160497</td>\n    </tr>\n    <tr>\n      <th>2</th>\n      <td>M1E</td>\n      <td>43.763573</td>\n      <td>-79.188711</td>\n    </tr>\n    <tr>\n      <th>3</th>\n      <td>M1G</td>\n      <td>43.770992</td>\n      <td>-79.216917</td>\n    </tr>\n    <tr>\n      <th>4</th>\n      <td>M1H</td>\n      <td>43.773136</td>\n      <td>-79.239476</td>\n    </tr>\n  </tbody>\n</table>\n</div>"
                    },
                    "metadata": {}
                }
            ]
        },
        {
            "metadata": {},
            "cell_type": "markdown",
            "source": "Merging df_toronto and geo dataframe into single"
        },
        {
            "metadata": {},
            "cell_type": "code",
            "source": "df_toronto_geo=pd.merge(df_toronto, geo, on='Postal Code')\ndf_toronto_geo.head()",
            "execution_count": 15,
            "outputs": [
                {
                    "output_type": "execute_result",
                    "execution_count": 15,
                    "data": {
                        "text/plain": "  Postal Code      Borough                          Neighborhood   Latitude  \\\n0         M1B  Scarborough                         Malvern,Rouge  43.806686   \n1         M1C  Scarborough  Rouge Hill,Port Union,Highland Creek  43.784535   \n2         M1E  Scarborough       Guildwood,Morningside,West Hill  43.763573   \n3         M1G  Scarborough                                Woburn  43.770992   \n4         M1H  Scarborough                             Cedarbrae  43.773136   \n\n   Longitude  \n0 -79.194353  \n1 -79.160497  \n2 -79.188711  \n3 -79.216917  \n4 -79.239476  ",
                        "text/html": "<div>\n<style scoped>\n    .dataframe tbody tr th:only-of-type {\n        vertical-align: middle;\n    }\n\n    .dataframe tbody tr th {\n        vertical-align: top;\n    }\n\n    .dataframe thead th {\n        text-align: right;\n    }\n</style>\n<table border=\"1\" class=\"dataframe\">\n  <thead>\n    <tr style=\"text-align: right;\">\n      <th></th>\n      <th>Postal Code</th>\n      <th>Borough</th>\n      <th>Neighborhood</th>\n      <th>Latitude</th>\n      <th>Longitude</th>\n    </tr>\n  </thead>\n  <tbody>\n    <tr>\n      <th>0</th>\n      <td>M1B</td>\n      <td>Scarborough</td>\n      <td>Malvern,Rouge</td>\n      <td>43.806686</td>\n      <td>-79.194353</td>\n    </tr>\n    <tr>\n      <th>1</th>\n      <td>M1C</td>\n      <td>Scarborough</td>\n      <td>Rouge Hill,Port Union,Highland Creek</td>\n      <td>43.784535</td>\n      <td>-79.160497</td>\n    </tr>\n    <tr>\n      <th>2</th>\n      <td>M1E</td>\n      <td>Scarborough</td>\n      <td>Guildwood,Morningside,West Hill</td>\n      <td>43.763573</td>\n      <td>-79.188711</td>\n    </tr>\n    <tr>\n      <th>3</th>\n      <td>M1G</td>\n      <td>Scarborough</td>\n      <td>Woburn</td>\n      <td>43.770992</td>\n      <td>-79.216917</td>\n    </tr>\n    <tr>\n      <th>4</th>\n      <td>M1H</td>\n      <td>Scarborough</td>\n      <td>Cedarbrae</td>\n      <td>43.773136</td>\n      <td>-79.239476</td>\n    </tr>\n  </tbody>\n</table>\n</div>"
                    },
                    "metadata": {}
                }
            ]
        },
        {
            "metadata": {},
            "cell_type": "markdown",
            "source": "### 3. Ethnic population of Toronto\n\nLoading ethinic population of Toronto from wikipedia using webscraping"
        },
        {
            "metadata": {},
            "cell_type": "code",
            "source": "pip install wikipedia\nimport wikipedia as wp",
            "execution_count": 17,
            "outputs": [
                {
                    "output_type": "stream",
                    "text": "Collecting wikipedia\n  Downloading wikipedia-1.4.0.tar.gz (27 kB)\nRequirement already satisfied: beautifulsoup4 in /opt/conda/envs/Python-3.7-main/lib/python3.7/site-packages (from wikipedia) (4.9.1)\nRequirement already satisfied: requests<3.0.0,>=2.0.0 in /opt/conda/envs/Python-3.7-main/lib/python3.7/site-packages (from wikipedia) (2.24.0)\nRequirement already satisfied: soupsieve>1.2 in /opt/conda/envs/Python-3.7-main/lib/python3.7/site-packages (from beautifulsoup4->wikipedia) (2.0.1)\nRequirement already satisfied: certifi>=2017.4.17 in /opt/conda/envs/Python-3.7-main/lib/python3.7/site-packages (from requests<3.0.0,>=2.0.0->wikipedia) (2020.12.5)\nRequirement already satisfied: chardet<4,>=3.0.2 in /opt/conda/envs/Python-3.7-main/lib/python3.7/site-packages (from requests<3.0.0,>=2.0.0->wikipedia) (3.0.4)\nRequirement already satisfied: urllib3!=1.25.0,!=1.25.1,<1.26,>=1.21.1 in /opt/conda/envs/Python-3.7-main/lib/python3.7/site-packages (from requests<3.0.0,>=2.0.0->wikipedia) (1.25.9)\nRequirement already satisfied: idna<3,>=2.5 in /opt/conda/envs/Python-3.7-main/lib/python3.7/site-packages (from requests<3.0.0,>=2.0.0->wikipedia) (2.9)\nBuilding wheels for collected packages: wikipedia\n  Building wheel for wikipedia (setup.py) ... \u001b[?25ldone\n\u001b[?25h  Created wheel for wikipedia: filename=wikipedia-1.4.0-py3-none-any.whl size=11685 sha256=b88a16374adcf236963fb9dd44c95823cbe9090fde63a2189e2703a3177f4460\n  Stored in directory: /tmp/wsuser/.cache/pip/wheels/15/93/6d/5b2c68b8a64c7a7a04947b4ed6d89fb557dcc6bc27d1d7f3ba\nSuccessfully built wikipedia\nInstalling collected packages: wikipedia\nSuccessfully installed wikipedia-1.4.0\nNote: you may need to restart the kernel to use updated packages.\n",
                    "name": "stdout"
                }
            ]
        },
        {
            "metadata": {},
            "cell_type": "code",
            "source": "html = wp.page(\"Demographics_of_Toronto\").html().encode(\"UTF-8\")\n \ndf_pop_tor_eyrk = pd.read_html(html)[12]  \ndf_pop_nyrk = pd.read_html(html)[13]  \ndf_pop_scrb = pd.read_html(html)[14]  \ndf_pop_eto = pd.read_html(html)[15]  \n\n#df_toronto_pop = pd.merge(df_pop_tor_eyrk,df_pop_nyrk, on='Riding')\n#df_toronto_pop\ndf_pop_tor_eyrk.head()\n#df_pop_nyrk.head()\n#df_pop_scrb.head()\n#df_pop_eto.head()",
            "execution_count": 22,
            "outputs": [
                {
                    "output_type": "execute_result",
                    "execution_count": 22,
                    "data": {
                        "text/plain": "               Riding  Population Ethnic Origin #1     % Ethnic Origin #2  \\\n0   Spadina-Fort York      114315          English  16.4          Chinese   \n1   Beaches-East York      108435          English  24.2            Irish   \n2           Davenport      107395       Portuguese  22.7          English   \n3  Parkdale-High Park      106445          English  22.3            Irish   \n4    Toronto-Danforth      105395          English  22.9            Irish   \n\n    %.1 Ethnic Origin #3   %.2 Ethnic Origin #4   %.3 Ethnic Origin #5   %.4  \\\n0  16.0            Irish  14.6         Canadian  14.0         Scottish  13.2   \n1  19.9         Canadian  19.7         Scottish  18.9           French   8.7   \n2  13.6         Canadian  12.8            Irish  11.5          Italian  11.1   \n3  20.0         Scottish  18.7         Canadian  16.1           German   9.8   \n4  19.5         Scottish  18.7         Canadian  18.4          Chinese  13.8   \n\n  Ethnic Origin #6    %.5 Ethnic Origin #7  %.6 Ethnic Origin #8  %.7  \\\n0           French   7.70           German  7.6              NaN  NaN   \n1           German   8.40              NaN  NaN              NaN  NaN   \n2         Scottish  11.00              NaN  NaN              NaN  NaN   \n3           French   8.88           Polish  8.5              NaN  NaN   \n4           French   8.86           German  8.8            Greek  7.3   \n\n  Ethnic Origin #9  %.8  \n0              NaN  NaN  \n1              NaN  NaN  \n2              NaN  NaN  \n3              NaN  NaN  \n4              NaN  NaN  ",
                        "text/html": "<div>\n<style scoped>\n    .dataframe tbody tr th:only-of-type {\n        vertical-align: middle;\n    }\n\n    .dataframe tbody tr th {\n        vertical-align: top;\n    }\n\n    .dataframe thead th {\n        text-align: right;\n    }\n</style>\n<table border=\"1\" class=\"dataframe\">\n  <thead>\n    <tr style=\"text-align: right;\">\n      <th></th>\n      <th>Riding</th>\n      <th>Population</th>\n      <th>Ethnic Origin #1</th>\n      <th>%</th>\n      <th>Ethnic Origin #2</th>\n      <th>%.1</th>\n      <th>Ethnic Origin #3</th>\n      <th>%.2</th>\n      <th>Ethnic Origin #4</th>\n      <th>%.3</th>\n      <th>Ethnic Origin #5</th>\n      <th>%.4</th>\n      <th>Ethnic Origin #6</th>\n      <th>%.5</th>\n      <th>Ethnic Origin #7</th>\n      <th>%.6</th>\n      <th>Ethnic Origin #8</th>\n      <th>%.7</th>\n      <th>Ethnic Origin #9</th>\n      <th>%.8</th>\n    </tr>\n  </thead>\n  <tbody>\n    <tr>\n      <th>0</th>\n      <td>Spadina-Fort York</td>\n      <td>114315</td>\n      <td>English</td>\n      <td>16.4</td>\n      <td>Chinese</td>\n      <td>16.0</td>\n      <td>Irish</td>\n      <td>14.6</td>\n      <td>Canadian</td>\n      <td>14.0</td>\n      <td>Scottish</td>\n      <td>13.2</td>\n      <td>French</td>\n      <td>7.70</td>\n      <td>German</td>\n      <td>7.6</td>\n      <td>NaN</td>\n      <td>NaN</td>\n      <td>NaN</td>\n      <td>NaN</td>\n    </tr>\n    <tr>\n      <th>1</th>\n      <td>Beaches-East York</td>\n      <td>108435</td>\n      <td>English</td>\n      <td>24.2</td>\n      <td>Irish</td>\n      <td>19.9</td>\n      <td>Canadian</td>\n      <td>19.7</td>\n      <td>Scottish</td>\n      <td>18.9</td>\n      <td>French</td>\n      <td>8.7</td>\n      <td>German</td>\n      <td>8.40</td>\n      <td>NaN</td>\n      <td>NaN</td>\n      <td>NaN</td>\n      <td>NaN</td>\n      <td>NaN</td>\n      <td>NaN</td>\n    </tr>\n    <tr>\n      <th>2</th>\n      <td>Davenport</td>\n      <td>107395</td>\n      <td>Portuguese</td>\n      <td>22.7</td>\n      <td>English</td>\n      <td>13.6</td>\n      <td>Canadian</td>\n      <td>12.8</td>\n      <td>Irish</td>\n      <td>11.5</td>\n      <td>Italian</td>\n      <td>11.1</td>\n      <td>Scottish</td>\n      <td>11.00</td>\n      <td>NaN</td>\n      <td>NaN</td>\n      <td>NaN</td>\n      <td>NaN</td>\n      <td>NaN</td>\n      <td>NaN</td>\n    </tr>\n    <tr>\n      <th>3</th>\n      <td>Parkdale-High Park</td>\n      <td>106445</td>\n      <td>English</td>\n      <td>22.3</td>\n      <td>Irish</td>\n      <td>20.0</td>\n      <td>Scottish</td>\n      <td>18.7</td>\n      <td>Canadian</td>\n      <td>16.1</td>\n      <td>German</td>\n      <td>9.8</td>\n      <td>French</td>\n      <td>8.88</td>\n      <td>Polish</td>\n      <td>8.5</td>\n      <td>NaN</td>\n      <td>NaN</td>\n      <td>NaN</td>\n      <td>NaN</td>\n    </tr>\n    <tr>\n      <th>4</th>\n      <td>Toronto-Danforth</td>\n      <td>105395</td>\n      <td>English</td>\n      <td>22.9</td>\n      <td>Irish</td>\n      <td>19.5</td>\n      <td>Scottish</td>\n      <td>18.7</td>\n      <td>Canadian</td>\n      <td>18.4</td>\n      <td>Chinese</td>\n      <td>13.8</td>\n      <td>French</td>\n      <td>8.86</td>\n      <td>German</td>\n      <td>8.8</td>\n      <td>Greek</td>\n      <td>7.3</td>\n      <td>NaN</td>\n      <td>NaN</td>\n    </tr>\n  </tbody>\n</table>\n</div>"
                    },
                    "metadata": {}
                }
            ]
        },
        {
            "metadata": {},
            "cell_type": "code",
            "source": "",
            "execution_count": null,
            "outputs": []
        },
        {
            "metadata": {},
            "cell_type": "code",
            "source": "",
            "execution_count": null,
            "outputs": []
        },
        {
            "metadata": {},
            "cell_type": "code",
            "source": "",
            "execution_count": null,
            "outputs": []
        },
        {
            "metadata": {},
            "cell_type": "code",
            "source": "",
            "execution_count": null,
            "outputs": []
        },
        {
            "metadata": {},
            "cell_type": "code",
            "source": "",
            "execution_count": null,
            "outputs": []
        },
        {
            "metadata": {},
            "cell_type": "code",
            "source": "",
            "execution_count": null,
            "outputs": []
        },
        {
            "metadata": {},
            "cell_type": "code",
            "source": "",
            "execution_count": null,
            "outputs": []
        },
        {
            "metadata": {},
            "cell_type": "code",
            "source": "",
            "execution_count": null,
            "outputs": []
        },
        {
            "metadata": {},
            "cell_type": "code",
            "source": "",
            "execution_count": null,
            "outputs": []
        }
    ],
    "metadata": {
        "kernelspec": {
            "name": "python3",
            "display_name": "Python 3.7",
            "language": "python"
        },
        "language_info": {
            "name": "python",
            "version": "3.7.10",
            "mimetype": "text/x-python",
            "codemirror_mode": {
                "name": "ipython",
                "version": 3
            },
            "pygments_lexer": "ipython3",
            "nbconvert_exporter": "python",
            "file_extension": ".py"
        }
    },
    "nbformat": 4,
    "nbformat_minor": 1
}